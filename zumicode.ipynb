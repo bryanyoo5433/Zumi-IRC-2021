{
 "cells": [
  {
   "cell_type": "markdown",
   "metadata": {},
   "source": [
    "# Libraries"
   ]
  },
  {
   "cell_type": "code",
   "execution_count": null,
   "metadata": {},
   "outputs": [],
   "source": [
    "from zumi.zumi import Zumi\n",
    "from zumi.protocol import Note \n",
    "from zumi.util.camera import Camera\n",
    "from zumi.util.vision import Vision\n",
    "from zumi.util.screen import Screen\n",
    "from zumi.personality import Personality\n",
    "import time\n",
    "screen = Screen()\n",
    "camera = Camera()\n",
    "vision = Vision()\n",
    "zumi = Zumi()\n",
    "personality = Personality(zumi, screen)"
   ]
  },
  {
   "cell_type": "markdown",
   "metadata": {},
   "source": [
    "# calibrate"
   ]
  },
  {
   "cell_type": "code",
   "execution_count": null,
   "metadata": {},
   "outputs": [],
   "source": [
    "zumi.calibrate_gyro()\n",
    "print(\"Done\")"
   ]
  },
  {
   "cell_type": "code",
   "execution_count": null,
   "metadata": {
    "scrolled": true
   },
   "outputs": [],
   "source": [
    "zumi.mpu.calibrate_MPU(count=500)"
   ]
  },
  {
   "cell_type": "markdown",
   "metadata": {},
   "source": [
    "### Functions Cell"
   ]
  },
  {
   "cell_type": "code",
   "execution_count": null,
   "metadata": {},
   "outputs": [],
   "source": [
    "def forward_move_inches(distance):\n",
    "    intercept = -0.5913183949807044\n",
    "    slope = 6.730326311017472\n",
    "    seconds = (distance - intercept)/slope\n",
    "    zumi.forward(speed=40,duration=seconds) \n",
    "\n",
    "def reverse_move_inches(distance):\n",
    "    intercept = -0.5913183949807044\n",
    "    slope = 6.730326311017472\n",
    "    seconds = (distance - intercept)/slope\n",
    "    zumi.reverse(speed=40,duration=seconds)  \n",
    "\n",
    "def move_to_point(point,flag): \n",
    "    #flag is either 1 or -1. 1 is up, -1 is down. flag1: office and factory. flag2: school and museum\n",
    "    x_point = point[0]\n",
    "    y_point = point[1]\n",
    "    \n",
    "    if flag == 1:\n",
    "        forward_move_inches(x_point)\n",
    "        zumi.turn(90)\n",
    "        reverse_move_inches(y_point)\n",
    "        time.sleep(1)\n",
    "        forward_move_inches(y_point)\n",
    "        zumi.turn(0)\n",
    "        forward_move_inches(35-x_point)\n",
    "        zumi.turn(-90)\n",
    "    elif flag == -1:\n",
    "        forward_move_inches(x_point)\n",
    "        zumi.turn(-90)\n",
    "        reverse_move_inches(y_point)\n",
    "        time.sleep(1)\n",
    "        forward_move_inches(y_point)\n",
    "        zumi.turn(0)\n",
    "        forward_move_inches(35-x_point)\n",
    "        zumi.turn(-90)\n",
    "\n",
    "        \n",
    "        \n",
    "def doremi():\n",
    "    zumi.play_note(Note.C4,1000)\n",
    "    zumi.play_note(Note.D4,1000)\n",
    "    zumi.play_note(Note.E4,1000)\n",
    "    \n",
    "def ff():\n",
    "    # song: Final Fantasy - Victory Fanfare\n",
    "    zumi.play_note(Note.C5,166.6666666)\n",
    "    zumi.play_note(Note.C5,166.6666666)\n",
    "    zumi.play_note(Note.C5,166.6666666)\n",
    "    zumi.play_note(Note.C5,500)\n",
    "    zumi.play_note(Note.GS4,500)\n",
    "    zumi.play_note(Note.AS4,500)\n",
    "    zumi.play_note(Note.C5,333.3333333)\n",
    "    zumi.play_note(Note.AS4,166.6666666)\n",
    "    zumi.play_note(Note.C5,1000)\n",
    "\n",
    "def find_thresholds():\n",
    "    right_th = []\n",
    "    left_th = []\n",
    "    for x in range(50):\n",
    "        ir_readings = zumi.get_all_IR_data()\n",
    "        bottom_right_ir = ir_readings[1]\n",
    "        bottom_left_ir = ir_readings[3]\n",
    "\n",
    "        right_th.append(bottom_right_ir)\n",
    "        left_th.append(bottom_left_ir)\n",
    "\n",
    "        time.sleep(0.1)\n",
    "        \n",
    "    actual_right_th = round((max(right_th) - min(right_th))/2 + min(right_th))\n",
    "    actual_left_th = round((max(left_th) - min(left_th))/2 + min(left_th))\n",
    "    \n",
    "    #return print(\"right thresh: \", actual_right_th, \"\\t left thresh: \", actual_left_th)\n",
    "    return actual_right_th, actual_left_th    \n",
    "    \n"
   ]
  },
  {
   "cell_type": "markdown",
   "metadata": {},
   "source": [
    "### Global Variables"
   ]
  },
  {
   "cell_type": "code",
   "execution_count": null,
   "metadata": {},
   "outputs": [],
   "source": [
    "messages = []"
   ]
  },
  {
   "cell_type": "markdown",
   "metadata": {},
   "source": [
    "# Run cell below if u need to update IR threshold values and speed calibration"
   ]
  },
  {
   "cell_type": "code",
   "execution_count": null,
   "metadata": {},
   "outputs": [],
   "source": [
    "find_thresholds()\n",
    "\n",
    "# R_TH = vals[0]\n",
    "# L_TH = vals[1]"
   ]
  },
  {
   "cell_type": "code",
   "execution_count": null,
   "metadata": {},
   "outputs": [],
   "source": [
    "zumi.reset_gyro()\n",
    "zumi.calibrate_gyro()\n",
    "zumi.speed_calibration(ir_threshold = 168) "
   ]
  },
  {
   "cell_type": "markdown",
   "metadata": {},
   "source": [
    "## Run cell below to update ir values"
   ]
  },
  {
   "cell_type": "code",
   "execution_count": null,
   "metadata": {},
   "outputs": [],
   "source": [
    "# newest ir values\n",
    "R_TH = 112\n",
    "L_TH = 168\n"
   ]
  },
  {
   "cell_type": "markdown",
   "metadata": {},
   "source": [
    "# Challenge Functions"
   ]
  },
  {
   "cell_type": "markdown",
   "metadata": {},
   "source": [
    "#### Section A Code"
   ]
  },
  {
   "cell_type": "code",
   "execution_count": null,
   "metadata": {},
   "outputs": [],
   "source": [
    "def Chal_A():\n",
    "    zumi.reset_gyro()\n",
    "       \n",
    "    # DON'T TOUCH THE Y-VALUE\n",
    "#     factory = (6.98,7.09)  \n",
    "#     school = (14.08,7.09)\n",
    "#     office = (20,7.09) # original 21.12\n",
    "#     museum = (25,7.09) # original 28.17\n",
    "\n",
    "    factory = (7,7)\n",
    "    school = (14,7)\n",
    "    office = (21,7)\n",
    "    museum = (28,7)\n",
    "\n",
    "\n",
    "    camera.start_camera()\n",
    "\n",
    "    for i in range(50):\n",
    "        frame = camera.capture()\n",
    "\n",
    "        qr_code = vision.find_QR_code(frame)\n",
    "        message1 = vision.get_QR_message(qr_code)\n",
    "        \n",
    "        camera.show_image(frame)\n",
    "        camera.clear_output()\n",
    "        print(\"searching for QR  code...\")\n",
    "        if message1 == \"factory\" or message1 == \"school\" or message1 == \"office\" or message1 == \"museum\":\n",
    "            print(\"found qr code\")\n",
    "            doremi()\n",
    "            messages.append(message1)\n",
    "            break\n",
    "            #camera.close()\n",
    "\n",
    "    if messages[0] == \"factory\":\n",
    "        print(\"found factory\")\n",
    "        move_to_point(factory,1)\n",
    "    elif messages[0] == \"school\":\n",
    "        print(\"found school\")\n",
    "        move_to_point(school,-1)\n",
    "    elif messages[0] == \"office\":\n",
    "        print(\"found office\")\n",
    "        move_to_point(office,1)\n",
    "    elif messages[0] == \"museum\":\n",
    "        print(\"found museum\")\n",
    "        move_to_point(museum,-1)\n",
    "\n",
    "    camera.close()\n",
    "    zumi.stop()\n",
    "    \n",
    "    \n",
    "    new_angle = zumi.read_z_angle()\n",
    "    print(new_angle)\n",
    "    forward_move_inches(11);\n",
    "    zumi.funnel_align(speed=1, duration=7, angle=None, angle_adj=1.1, l_th=L_TH, r_th=R_TH)\n",
    "    zumi.turn(new_angle)"
   ]
  },
  {
   "cell_type": "markdown",
   "metadata": {},
   "source": [
    "### Section B"
   ]
  },
  {
   "cell_type": "code",
   "execution_count": null,
   "metadata": {},
   "outputs": [],
   "source": [
    "#Challenge B\n",
    "#This challenge starts facing the STOP sign, \n",
    "#which should be placed at the marker before the start of the run. \n",
    "#You can use the \"funnel\" shape to help get aligned with the STOP sign. \n",
    "#Zumi must play the 3-second 'do-re-mi' sound when the STOP sign is detected, then wait. \n",
    "#Zumi should only continue when the STOP sign is removed. \n",
    "#Then she should drive through segments 1 - 3, without touching the walls or driving onto grass.\n",
    "     \n",
    "def Chal_B():\n",
    "    camera.start_camera()\n",
    "    for i in range(10):\n",
    "        image = camera.capture()\n",
    "        gray = vision.convert_to_gray(image)\n",
    "        data = vision.find_stop_sign(gray)\n",
    "        if data is not None: #if stop sign is found\n",
    "            print(\"found stop sign\")\n",
    "            zumi.stop()\n",
    "            doremi()\n",
    "        else:\n",
    "            break\n",
    "        camera.show_image(gray)\n",
    "        camera.clear_output()\n",
    "       \n",
    "    camera.close()\n",
    "    \n",
    "    zumi.forward_avoid_collision(40,5,None,180,180)\n",
    "    zumi.turn(-180)\n",
    "    zumi.forward_avoid_collision(40,5,None,180,180)\n",
    "    zumi.turn(-270)\n",
    "    zumi.forward_avoid_collision(40,5,None,180,180)\n",
    "    zumi.turn(-180)\n",
    "    zumi.forward_avoid_collision(40,5,None,180,180)\n",
    "    zumi.turn(-90)\n",
    "    \n",
    "    forward_move_inches(13)\n",
    "    zumi.funnel_align(speed=1, duration=7, angle=None, angle_adj=1.1, l_th=L_TH, r_th=R_TH)\n",
    "    zumi.turn(-90)"
   ]
  },
  {
   "cell_type": "markdown",
   "metadata": {},
   "source": [
    "### Section C "
   ]
  },
  {
   "cell_type": "code",
   "execution_count": null,
   "metadata": {},
   "outputs": [],
   "source": [
    "#Challenge C\n",
    "def Chal_C():    \n",
    "    # zumi should have stopped at end of funnel staring at red/green square\n",
    "    camera.start_camera()\n",
    "    for i in range(50):\n",
    "        image = camera.capture()\n",
    "        red = vision.find_red_object(image)\n",
    "        green = vision.find_green_object(image)\n",
    "        camera.show_image(image)\n",
    "        if red is not None:\n",
    "            print('found red square')\n",
    "            doremi()\n",
    "        elif green is not None:\n",
    "            print('found green square')\n",
    "            zumi.forward()\n",
    "            zumi.line_follow_gyro_assist(speed=8, duration=45, angle=None, angle_adj=1, l_th=L_TH, r_th=R_TH)\n",
    "            zumi.turn_left()\n",
    "            zumi.line_follow_gyro_assist(speed=8, duration=45, angle=None, angle_adj=1, l_th=L_TH, r_th=R_TH)\n",
    "            zumi.turn_right()\n",
    "            zumi.line_follow_gyro_assist(speed=8, duration=45, angle=None, angle_adj=1, l_th=L_TH, r_th=R_TH)\n",
    "            zumi.turn_right()\n",
    "            break\n",
    "        else:\n",
    "            zumi.stop()\n",
    "        \n",
    "    camera.close()\n",
    "    zumi.stop()\n",
    "           \n",
    "    # === START OF PART 2 ===\n",
    "    # ZUMI SHOULD BE AT THE LONG END OF THE T-INTERSECTION\n",
    "    camera.start_camera()\n",
    "    for i in range(10):\n",
    "        frame = camera.capture()\n",
    "        qr_code = vision.find_QR_code(frame)\n",
    "        message2 = vision.get_QR_message(qr_code)\n",
    "        if message2 is not None:\n",
    "            messages.append(message2)\n",
    "        camera.show_image(frame)\n",
    "        camera.clear_output()\n",
    "\n",
    "        if message2 == \"left\" or message2 == \"right\":\n",
    "            print(\"I see QR code\")\n",
    "            doremi()\n",
    "            camera.close()\n",
    "            break\n",
    "\n",
    "    if messages[-1] == \"left\":\n",
    "        print(\"I go left\")\n",
    "        zumi.line_follow_gyro_assist(speed=10, duration=30, angle=None, angle_adj=1, l_th=L_TH, r_th=R_TH)\n",
    "        zumi.turn_left()\n",
    "        zumi.line_follow_gyro_assist(speed=10, duration=30, angle=None, angle_adj=1, l_th=L_TH, r_th=R_TH)\n",
    "        zumi.turn_right()\n",
    "        zumi.line_follow_gyro_assist(speed=10, duration=30, angle=None, angle_adj=1, l_th=L_TH, r_th=R_TH)\n",
    "        zumi.forward(speed=5)\n",
    "\n",
    "    elif messages[-1] == \"right\":\n",
    "        print(\"I go right\")\n",
    "        zumi.line_follow_gyro_assist(speed=10, duration=30, angle=None, angle_adj=1, l_th=L_TH, r_th=R_TH)\n",
    "        zumi.turn_right()\n",
    "        zumi.line_follow_gyro_assist(speed=10, duration=5, angle=None, angle_adj=1, l_th=L_TH, r_th=R_TH)\n",
    "        zumi.turn_left()\n",
    "        zumi.line_follow_gyro_assist(speed=10, duration=30, angle=None, angle_adj=1, l_th=L_TH, r_th=R_TH)\n",
    "        zumi.forward(speed=5)\n",
    "        \n",
    "    personality.happy()\n",
    "    screen.draw_text_center(messages[0]+\" \"+messages[1])\n",
    "    ff()\n",
    "\n",
    "    print(\"Done!\")\n",
    "    camera.close()  \n",
    "    zumi.stop()\n",
    "    camera.close()\n",
    "    \n",
    "    "
   ]
  },
  {
   "cell_type": "markdown",
   "metadata": {},
   "source": [
    "# Main Body"
   ]
  },
  {
   "cell_type": "code",
   "execution_count": null,
   "metadata": {},
   "outputs": [],
   "source": [
    "start = time.time()\n",
    "messages = []\n",
    "Chal_A()\n",
    "Chal_B()\n",
    "Chal_C()\n",
    "end = time.time()\n",
    "total = end-start\n",
    "print(total)"
   ]
  }
 ],
 "metadata": {
  "kernelspec": {
   "display_name": "Python 3",
   "language": "python",
   "name": "python3"
  },
  "language_info": {
   "codemirror_mode": {
    "name": "ipython",
    "version": 3
   },
   "file_extension": ".py",
   "mimetype": "text/x-python",
   "name": "python",
   "nbconvert_exporter": "python",
   "pygments_lexer": "ipython3",
   "version": "3.5.3"
  }
 },
 "nbformat": 4,
 "nbformat_minor": 2
}
